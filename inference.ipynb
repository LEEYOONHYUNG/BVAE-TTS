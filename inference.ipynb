{
 "cells": [
  {
   "cell_type": "markdown",
   "metadata": {},
   "source": [
    "# Import libraries and setup matplotlib"
   ]
  },
  {
   "cell_type": "code",
   "execution_count": null,
   "metadata": {},
   "outputs": [],
   "source": [
    "import os\n",
    "os.environ[\"CUDA_VISIBLE_DEVICES\"] = '0'\n",
    "\n",
    "import warnings\n",
    "warnings.filterwarnings(\"ignore\")\n",
    "\n",
    "import sys\n",
    "sys.path.append('waveglow/')\n",
    "\n",
    "import matplotlib.pyplot as plt\n",
    "%matplotlib inline\n",
    "\n",
    "import IPython.display as ipd\n",
    "from text import *\n",
    "import torch\n",
    "import hparams as hp\n",
    "from modules.model import Model\n",
    "from denoiser import Denoiser\n",
    "from utils.utils import *\n",
    "from utils.text2seq import text2seq\n",
    "\n",
    "waveglow_path = 'training_log/waveglow_256channels.pt'\n",
    "waveglow = torch.load(waveglow_path)['model']\n",
    "\n",
    "for m in waveglow.modules():\n",
    "    if 'Conv' in str(type(m)):\n",
    "        setattr(m, 'padding_mode', 'zeros')\n",
    "\n",
    "waveglow.cuda().eval()\n",
    "for k in waveglow.convinv:\n",
    "    k.float()\n",
    "\n",
    "denoiser = Denoiser(waveglow)"
   ]
  },
  {
   "cell_type": "markdown",
   "metadata": {},
   "source": [
    "# Generate samples"
   ]
  },
  {
   "cell_type": "code",
   "execution_count": null,
   "metadata": {
    "scrolled": false
   },
   "outputs": [],
   "source": [
    "checkpoint_path = f\"training_log/baseline/bvae_tts_300k.pt\"\n",
    "model = Model(hp).cuda()\n",
    "model.load_state_dict(torch.load(checkpoint_path)['state_dict'])\n",
    "_ = model.cuda().eval()\n",
    "\n",
    "with open('filelists/ljs_audio_text_test_filelist.txt', 'r') as f:\n",
    "    test_data = f.read().splitlines()\n",
    "    \n",
    "for i, x in enumerate(test_data[:10]):\n",
    "    file, text = x.split('|')\n",
    "    print(f\"{file}: {text}\")\n",
    "    phone_seq = text2seq(text)\n",
    "    sequence = torch.autograd.Variable(torch.from_numpy(phone_seq)).cuda().long().unsqueeze(0)\n",
    "\n",
    "    temperature=[0.333, 0.333, 0.333, 0.333]\n",
    "    with torch.no_grad():\n",
    "        melspec, durations = model.inference(sequence, alpha=1.0, temperature=temperature)\n",
    "        melspec = melspec*(hp.max_db-hp.min_db)+hp.min_db\n",
    "        audio = waveglow.infer(melspec, sigma=0.666)\n",
    "        audio_denoised = denoiser(audio, strength=0.03)[:, 0]\n",
    "        ipd.display(ipd.Audio(audio_denoised.cpu().numpy(), rate=22050))\n"
   ]
  }
 ],
 "metadata": {
  "kernelspec": {
   "display_name": "Environment (conda_pytorch_p36)",
   "language": "python",
   "name": "conda_pytorch_p36"
  },
  "language_info": {
   "codemirror_mode": {
    "name": "ipython",
    "version": 3
   },
   "file_extension": ".py",
   "mimetype": "text/x-python",
   "name": "python",
   "nbconvert_exporter": "python",
   "pygments_lexer": "ipython3",
   "version": "3.6.10"
  },
  "varInspector": {
   "cols": {
    "lenName": 16,
    "lenType": 16,
    "lenVar": 40
   },
   "kernels_config": {
    "python": {
     "delete_cmd_postfix": "",
     "delete_cmd_prefix": "del ",
     "library": "var_list.py",
     "varRefreshCmd": "print(var_dic_list())"
    },
    "r": {
     "delete_cmd_postfix": ") ",
     "delete_cmd_prefix": "rm(",
     "library": "var_list.r",
     "varRefreshCmd": "cat(var_dic_list()) "
    }
   },
   "types_to_exclude": [
    "module",
    "function",
    "builtin_function_or_method",
    "instance",
    "_Feature"
   ],
   "window_display": false
  }
 },
 "nbformat": 4,
 "nbformat_minor": 2
}
